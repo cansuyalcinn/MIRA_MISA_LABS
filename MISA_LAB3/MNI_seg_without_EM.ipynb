{
 "cells": [
  {
   "cell_type": "markdown",
   "metadata": {},
   "source": [
    "## (4.1) MNI Atlas registrations, transformations and segmentations using Tissue models, Label propagartion and Bayesian Model. "
   ]
  },
  {
   "cell_type": "code",
   "execution_count": 1,
   "metadata": {},
   "outputs": [],
   "source": [
    "# Import Libraries\n",
    "import os\n",
    "from pathlib import Path\n",
    "import numpy as np\n",
    "import SimpleITK as sitk\n",
    "import matplotlib.pyplot as plt\n",
    "from tqdm import tqdm\n",
    "import pandas as pd\n",
    "import utils\n",
    "import pickle"
   ]
  },
  {
   "cell_type": "code",
   "execution_count": 2,
   "metadata": {},
   "outputs": [],
   "source": [
    "# Get the current working directory\n",
    "cwd = os.getcwd()"
   ]
  },
  {
   "cell_type": "code",
   "execution_count": 3,
   "metadata": {},
   "outputs": [
    {
     "data": {
      "text/plain": [
       "(182, 218, 182)"
      ]
     },
     "execution_count": 3,
     "metadata": {},
     "output_type": "execute_result"
    }
   ],
   "source": [
    "atlas_name =\"MNI\"\n",
    "# Load list of patient ID's\n",
    "list_patient = utils.read_patients_list(cwd + \"/data/testing-set/testing-images\")\n",
    "\n",
    "# Register MNI atlas to the test image space to obtain label propagation information\n",
    "\n",
    "# Load the MNI atlas\n",
    "atlas = sitk.ReadImage(cwd + f\"/data/{atlas_name}_atlas/atlas.nii.gz\")\n",
    "# Load the MNI atlas template\n",
    "atlas_template = sitk.ReadImage(cwd + f\"/data/{atlas_name}_atlas/template.nii.gz\")\n",
    "\n",
    "atlas_array = sitk.GetArrayFromImage(atlas)\n",
    "atlas_array.shape\n",
    "atlas_template_array = sitk.GetArrayFromImage(atlas_template)\n",
    "atlas_template_array.shape"
   ]
  },
  {
   "cell_type": "code",
   "execution_count": 4,
   "metadata": {},
   "outputs": [],
   "source": [
    "# Divide the atlas into 4 \n",
    "# atlas_array_1 = atlas_array[0, :, :]\n",
    "# atlas_array_2 = atlas_array[1, :, :]\n",
    "# atlas_array_3 = atlas_array[2, :, :]\n",
    "# atlas_array_4 = atlas_array[3, :, :]\n",
    "\n",
    "# # save the atlas array as nifti image\n",
    "# utils.save_as_nifti(atlas_array_1, cwd + f\"/data/{atlas_name}_atlas/atlas_background.nii.gz\", cwd + f\"/data/{atlas_name}_atlas/template.nii.gz\")\n",
    "# utils.save_as_nifti(atlas_array_2, cwd + f\"/data/{atlas_name}_atlas/atlas_csf.nii.gz\", cwd + f\"/data/{atlas_name}_atlas/template.nii.gz\")\n",
    "# utils.save_as_nifti(atlas_array_3, cwd + f\"/data/{atlas_name}_atlas/atlas_gm.nii.gz\", cwd + f\"/data/{atlas_name}_atlas/template.nii.gz\")\n",
    "# utils.save_as_nifti(atlas_array_4, cwd + f\"/data/{atlas_name}_atlas/atlas_wm.nii.gz\", cwd + f\"/data/{atlas_name}_atlas/template.nii.gz\")"
   ]
  },
  {
   "cell_type": "code",
   "execution_count": 5,
   "metadata": {},
   "outputs": [],
   "source": [
    "def resize_images(fixed_path, moving_path, p, name):\n",
    "    template = sitk.ReadImage(moving_path)\n",
    "    template_array = sitk.GetArrayFromImage(template)\n",
    "\n",
    "    # Read the test image\n",
    "    test_image = sitk.ReadImage(fixed_path)\n",
    "    test_image_array = sitk.GetArrayFromImage(test_image)\n",
    "\n",
    "    # Reshape the template image to the same size as the test image\n",
    "    template_array_resized = np.zeros(test_image_array.shape)\n",
    "    template_array_resized[0:template_array.shape[0], 0:template_array.shape[1], 0:template_array.shape[2]] = template_array\n",
    "    \n",
    "    # Save the resized template image\n",
    "    utils.save_as_nifti(template_array_resized, cwd + f\"/data/MNI_atlas/{name}_resized_{p}.nii.gz\", fixed_path)\n",
    "\n",
    "    # Read the resized template image\n",
    "    template_resized = str(cwd) + f\"/data/MNI_atlas/{name}_resized_{p}.nii.gz\"\n",
    "\n",
    "    return template_resized"
   ]
  },
  {
   "cell_type": "code",
   "execution_count": 6,
   "metadata": {},
   "outputs": [
    {
     "name": "stdout",
     "output_type": "stream",
     "text": [
      "1038\n",
      "1039\n",
      "1101\n",
      "1104\n",
      "1107\n",
      "1110\n",
      "1113\n",
      "1116\n",
      "1119\n",
      "1122\n",
      "1125\n",
      "1128\n"
     ]
    }
   ],
   "source": [
    "# Register the template to the test image space\n",
    "\n",
    "# Read atlasses\n",
    "atlas_background = cwd + f\"/data/{atlas_name}_atlas/atlas_background.nii.gz\"\n",
    "atlas_path_csf = cwd + f\"/data/{atlas_name}_atlas/atlas_csf.nii.gz\"\n",
    "atlas_path_gm = cwd + f\"/data/{atlas_name}_atlas/atlas_gm.nii.gz\"\n",
    "atlas_path_wm = cwd + f\"/data/{atlas_name}_atlas/atlas_wm.nii.gz\"\n",
    "\n",
    "# Go through all the patients in the test-set\n",
    "for patient in list_patient[8:]:\n",
    "    print(patient)\n",
    "    # Read the images\n",
    "    fixed_path = str(cwd) + f'/data/testing-set/testing-images/{patient}.nii.gz'\n",
    "    labels_path = str(cwd) + f'/data/testing-set/testing-labels/{patient}_3C.nii.gz'\n",
    "    moving_path = str(cwd) + f'/data/MNI_atlas/template.nii.gz'\n",
    "\n",
    "    # Apply resizing to the images\n",
    "    template_resized_path = resize_images(fixed_path, moving_path, patient, name=\"template\")\n",
    "\n",
    "    # Register the images\n",
    "    resultImage, transformParameterMap = utils.image_registration(fixed_path, template_resized_path)\n",
    "\n",
    "    atlas_path_csf1 = resize_images(fixed_path, atlas_path_csf, patient, name=\"atlas_csf\")\n",
    "    atlas_path_gm1 = resize_images(fixed_path, atlas_path_gm, patient, name=\"atlas_gm\")\n",
    "    atlas_path_wm1 = resize_images(fixed_path, atlas_path_wm, patient, name=\"atlas_wm\")\n",
    "\n",
    "    # Transform the atlas images\n",
    "    atlas_csf_registered, atlas_gm_registered, atlas_wm_registered = utils.transform_atlas(atlas_path_csf1, atlas_path_gm1, atlas_path_wm1, transformParameterMap)\n",
    "    # Save the transformed atlas images\n",
    "    utils.save_as_nifti(sitk.GetArrayFromImage(atlas_csf_registered), f'data/MNI_atlas/transformed_atlas/csf_atlas_{patient}.nii.gz', fixed_path)\n",
    "    utils.save_as_nifti(sitk.GetArrayFromImage(atlas_gm_registered), f'data/MNI_atlas/transformed_atlas/gm_atlas_{patient}.nii.gz', fixed_path)\n",
    "    utils.save_as_nifti(sitk.GetArrayFromImage(atlas_wm_registered), f'data/MNI_atlas/transformed_atlas/wm_atlas_{patient}.nii.gz', fixed_path)\n"
   ]
  }
 ],
 "metadata": {
  "kernelspec": {
   "display_name": "Python 3.9.13 64-bit (microsoft store)",
   "language": "python",
   "name": "python3"
  },
  "language_info": {
   "codemirror_mode": {
    "name": "ipython",
    "version": 3
   },
   "file_extension": ".py",
   "mimetype": "text/x-python",
   "name": "python",
   "nbconvert_exporter": "python",
   "pygments_lexer": "ipython3",
   "version": "3.9.13"
  },
  "orig_nbformat": 4,
  "vscode": {
   "interpreter": {
    "hash": "330291e952ef2592d61b7857e145d2070e6df96cbb58463d8ee825546f424b29"
   }
  }
 },
 "nbformat": 4,
 "nbformat_minor": 2
}
