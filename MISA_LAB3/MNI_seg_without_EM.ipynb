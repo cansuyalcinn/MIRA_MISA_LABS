{
 "cells": [
  {
   "cell_type": "markdown",
   "metadata": {},
   "source": [
    "## (4.1) MNI Atlas registrations, transformations and segmentations using Tissue models, Label propagartion and Bayesian Model. "
   ]
  },
  {
   "cell_type": "code",
   "execution_count": 1,
   "metadata": {},
   "outputs": [],
   "source": [
    "# Import Libraries\n",
    "import os\n",
    "from pathlib import Path\n",
    "import numpy as np\n",
    "import SimpleITK as sitk\n",
    "import matplotlib.pyplot as plt\n",
    "from tqdm import tqdm\n",
    "import pandas as pd\n",
    "import utils"
   ]
  },
  {
   "cell_type": "code",
   "execution_count": 2,
   "metadata": {},
   "outputs": [],
   "source": [
    "# Get the current working directory\n",
    "cwd = os.getcwd()"
   ]
  },
  {
   "cell_type": "code",
   "execution_count": 3,
   "metadata": {},
   "outputs": [
    {
     "data": {
      "text/plain": [
       "(182, 218, 182)"
      ]
     },
     "execution_count": 3,
     "metadata": {},
     "output_type": "execute_result"
    }
   ],
   "source": [
    "atlas_name =\"MNI\"\n",
    "method = \"Tmodels\"\n",
    "# Load list of patient ID's\n",
    "list_patient = utils.read_patients_list(cwd + \"/data/testing-set/testing-images\")\n",
    "\n",
    "# Register MNI atlas to the test image space to obtain label propagation information\n",
    "\n",
    "# Load the MNI atlas\n",
    "atlas = sitk.ReadImage(cwd + f\"/data/{atlas_name}_atlas/atlas.nii.gz\")\n",
    "# Load the MNI atlas template\n",
    "atlas_template = sitk.ReadImage(cwd + f\"/data/{atlas_name}_atlas/template.nii.gz\")\n",
    "\n",
    "atlas_array = sitk.GetArrayFromImage(atlas)\n",
    "atlas_array.shape\n",
    "atlas_template_array = sitk.GetArrayFromImage(atlas_template)\n",
    "atlas_template_array.shape"
   ]
  },
  {
   "cell_type": "code",
   "execution_count": 63,
   "metadata": {},
   "outputs": [],
   "source": [
    "# Divide the atlas into 4 \n",
    "# atlas_array_1 = atlas_array[0, :, :]\n",
    "# atlas_array_2 = atlas_array[1, :, :]\n",
    "# atlas_array_3 = atlas_array[2, :, :]\n",
    "# atlas_array_4 = atlas_array[3, :, :]\n",
    "\n",
    "# # save the atlas array as nifti image\n",
    "# utils.save_as_nifti(atlas_array_1, cwd + f\"/data/{atlas_name}_atlas/atlas_background.nii.gz\", cwd + f\"/data/{atlas_name}_atlas/template.nii.gz\")\n",
    "# utils.save_as_nifti(atlas_array_2, cwd + f\"/data/{atlas_name}_atlas/atlas_csf.nii.gz\", cwd + f\"/data/{atlas_name}_atlas/template.nii.gz\")\n",
    "# utils.save_as_nifti(atlas_array_3, cwd + f\"/data/{atlas_name}_atlas/atlas_gm.nii.gz\", cwd + f\"/data/{atlas_name}_atlas/template.nii.gz\")\n",
    "# utils.save_as_nifti(atlas_array_4, cwd + f\"/data/{atlas_name}_atlas/atlas_wm.nii.gz\", cwd + f\"/data/{atlas_name}_atlas/template.nii.gz\")"
   ]
  },
  {
   "cell_type": "code",
   "execution_count": 8,
   "metadata": {},
   "outputs": [
    {
     "ename": "RuntimeError",
     "evalue": "Exception thrown in SimpleITK ElastixImageFilter_Execute: C:\\dafne\\SimpleElastix\\Code\\Elastix\\src\\sitkElastixImageFilterImpl.cxx:259:\nsitk::ERROR: \nitk::ExceptionObject (0000002D53BE6990)\nLocation: \"unknown\" \nFile: c:\\dafne\\simpleelastix\\build3.9\\elastix\\core\\main\\elxElastixFilter.hxx\nLine: 253\nDescription: itk::ERROR: ElastixFilter(00000161915FF7E0): Internal elastix error: See elastix log (use LogToConsoleOn() or LogToFileOn()).\n\n",
     "output_type": "error",
     "traceback": [
      "\u001b[1;31m---------------------------------------------------------------------------\u001b[0m",
      "\u001b[1;31mRuntimeError\u001b[0m                              Traceback (most recent call last)",
      "Cell \u001b[1;32mIn [8], line 12\u001b[0m\n\u001b[0;32m     10\u001b[0m fixed_path \u001b[39m=\u001b[39m \u001b[39mstr\u001b[39m(cwd) \u001b[39m+\u001b[39m \u001b[39mf\u001b[39m\u001b[39m'\u001b[39m\u001b[39m/data/testing-set/testing-images/\u001b[39m\u001b[39m{\u001b[39;00mpatient\u001b[39m}\u001b[39;00m\u001b[39m.nii.gz\u001b[39m\u001b[39m'\u001b[39m\n\u001b[0;32m     11\u001b[0m moving_path \u001b[39m=\u001b[39m \u001b[39mstr\u001b[39m(cwd) \u001b[39m+\u001b[39m \u001b[39mf\u001b[39m\u001b[39m'\u001b[39m\u001b[39m/data/MNI_atlas/template.nii.gz\u001b[39m\u001b[39m'\u001b[39m\n\u001b[1;32m---> 12\u001b[0m resultImage, transformParameterMap \u001b[39m=\u001b[39m utils\u001b[39m.\u001b[39;49mimage_registration(fixed_path, moving_path, paths\u001b[39m=\u001b[39;49m\u001b[39mTrue\u001b[39;49;00m)\n",
      "File \u001b[1;32md:\\VS_Projects\\MIRA_MISA_LABS\\MISA_LAB3\\utils.py:173\u001b[0m, in \u001b[0;36mimage_registration\u001b[1;34m(fixed_path, moving_path, paths)\u001b[0m\n\u001b[0;32m    170\u001b[0m elastixImageFilter\u001b[39m.\u001b[39mSetMovingImage(movingImage)\n\u001b[0;32m    172\u001b[0m \u001b[39m#Run registration\u001b[39;00m\n\u001b[1;32m--> 173\u001b[0m elastixImageFilter\u001b[39m.\u001b[39;49mExecute()\n\u001b[0;32m    175\u001b[0m \u001b[39m#Get result image\u001b[39;00m\n\u001b[0;32m    176\u001b[0m resultImage \u001b[39m=\u001b[39m elastixImageFilter\u001b[39m.\u001b[39mGetResultImage()\n",
      "File \u001b[1;32m~\\AppData\\Local\\Packages\\PythonSoftwareFoundation.Python.3.9_qbz5n2kfra8p0\\LocalCache\\local-packages\\Python39\\site-packages\\SimpleITK\\SimpleITK.py:11130\u001b[0m, in \u001b[0;36mElastixImageFilter.Execute\u001b[1;34m(self)\u001b[0m\n\u001b[0;32m  11128\u001b[0m \u001b[39mdef\u001b[39;00m \u001b[39mExecute\u001b[39m(\u001b[39mself\u001b[39m):\n\u001b[0;32m  11129\u001b[0m     \u001b[39m\"\"\"Execute(ElastixImageFilter self) -> Image\"\"\"\u001b[39;00m\n\u001b[1;32m> 11130\u001b[0m     \u001b[39mreturn\u001b[39;00m _SimpleITK\u001b[39m.\u001b[39;49mElastixImageFilter_Execute(\u001b[39mself\u001b[39;49m)\n",
      "\u001b[1;31mRuntimeError\u001b[0m: Exception thrown in SimpleITK ElastixImageFilter_Execute: C:\\dafne\\SimpleElastix\\Code\\Elastix\\src\\sitkElastixImageFilterImpl.cxx:259:\nsitk::ERROR: \nitk::ExceptionObject (0000002D53BE6990)\nLocation: \"unknown\" \nFile: c:\\dafne\\simpleelastix\\build3.9\\elastix\\core\\main\\elxElastixFilter.hxx\nLine: 253\nDescription: itk::ERROR: ElastixFilter(00000161915FF7E0): Internal elastix error: See elastix log (use LogToConsoleOn() or LogToFileOn()).\n\n"
     ]
    }
   ],
   "source": [
    "# Register the template to the test image space\n",
    "\n",
    "# Read atlasses\n",
    "atlas_background = sitk.ReadImage(cwd + f\"/data/{atlas_name}_atlas/atlas_background.nii.gz\")\n",
    "atlas_csf = sitk.ReadImage(cwd + f\"/data/{atlas_name}_atlas/atlas_csf.nii.gz\")\n",
    "atlas_gm = sitk.ReadImage(cwd + f\"/data/{atlas_name}_atlas/atlas_gm.nii.gz\")\n",
    "atlas_wm = sitk.ReadImage(cwd + f\"/data/{atlas_name}_atlas/atlas_wm.nii.gz\")\n",
    "\n",
    "patient = 1003\n",
    "fixed_path = str(cwd) + f'/data/testing-set/testing-images/{patient}.nii.gz'\n",
    "moving_path = str(cwd) + f'/data/MNI_atlas/template.nii.gz'\n",
    "resultImage, transformParameterMap = utils.image_registration(fixed_path, moving_path)\n",
    "\n",
    "\n",
    "\n",
    "\n",
    "# # Go through all the patients in the test-set\n",
    "# for patient in list_patient:\n",
    "#     print(patient)\n",
    "#     # Read the images\n",
    "#     fixed_path = str(cwd) + f'/data/testing-set/testing-images/{patient}.nii.gz'\n",
    "#     labels_path = str(cwd) + f'/data/testing-set/testing-labels/{patient}_3C.nii.gz'\n",
    "#     moving_path = str(cwd) + f'/data/MNI_atlas/template.nii.gz'\n",
    "#     # Register the images\n",
    "#     resultImage, transformParameterMap = utils.image_registration(fixed_path, moving_path, paths=False)\n",
    "#     # Transform the atlas images\n",
    "#     atlas_csf_registered, atlas_gm_registered, atlas_wm_registered = utils.transform_atlas(atlas_path_csf, atlas_path_gm, atlas_path_wm, transformParameterMap)\n",
    "#     # Save the transformed atlas images\n",
    "#     utils.save_as_nifti(sitk.GetArrayFromImage(atlas_csf_registered), f'data/MNI_atlas/transformed_atlas/csf_atlas_{patient}.nii.gz', fixed_path)\n",
    "#     utils.save_as_nifti(sitk.GetArrayFromImage(atlas_gm_registered), f'data/MNI_atlas/transformed_atlas/gm_atlas_{patient}.nii.gz', fixed_path)\n",
    "#     utils.save_as_nifti(sitk.GetArrayFromImage(atlas_wm_registered), f'data/MNI_atlas/transformed_atlas/wm_atlas_{patient}.nii.gz', fixed_path)\n"
   ]
  }
 ],
 "metadata": {
  "kernelspec": {
   "display_name": "Python 3.9.13 64-bit (microsoft store)",
   "language": "python",
   "name": "python3"
  },
  "language_info": {
   "codemirror_mode": {
    "name": "ipython",
    "version": 3
   },
   "file_extension": ".py",
   "mimetype": "text/x-python",
   "name": "python",
   "nbconvert_exporter": "python",
   "pygments_lexer": "ipython3",
   "version": "3.9.13"
  },
  "orig_nbformat": 4,
  "vscode": {
   "interpreter": {
    "hash": "330291e952ef2592d61b7857e145d2070e6df96cbb58463d8ee825546f424b29"
   }
  }
 },
 "nbformat": 4,
 "nbformat_minor": 2
}
