{
 "cells": [
  {
   "cell_type": "markdown",
   "metadata": {},
   "source": [
    "### Label propagation: segmentation using just position information"
   ]
  },
  {
   "cell_type": "code",
   "execution_count": 23,
   "metadata": {},
   "outputs": [],
   "source": [
    "# Import Libraries\n",
    "import os\n",
    "from pathlib import Path\n",
    "import numpy as np\n",
    "import SimpleITK as sitk\n",
    "import matplotlib.pyplot as plt\n",
    "from tqdm import tqdm\n",
    "import pandas as pd"
   ]
  },
  {
   "cell_type": "code",
   "execution_count": 24,
   "metadata": {},
   "outputs": [
    {
     "name": "stdout",
     "output_type": "stream",
     "text": [
      "d:\\VS_Projects\\MIRA_MISA_LABS\\MISA_LAB3\n"
     ]
    }
   ],
   "source": [
    "# Get the current working directory\n",
    "cwd = os.getcwd()\n",
    "print(cwd)"
   ]
  },
  {
   "cell_type": "markdown",
   "metadata": {},
   "source": [
    "# Read new test images to perform the segmentation"
   ]
  },
  {
   "cell_type": "code",
   "execution_count": 25,
   "metadata": {},
   "outputs": [],
   "source": [
    "# Read patients in the test-set\n",
    "test_set_path = 'data/testing-set'\n",
    "aux_patients_list = os.listdir(test_set_path + '/testing-images')\n",
    "list_patient = []\n",
    "for str1 in aux_patients_list:\n",
    "    list_patient.append(str1.replace(\".nii.gz\", \"\"))\n",
    "\n",
    "## Preprocessing -- Skull removal step\n",
    "def skull_removal(img, mask):\n",
    "    brain_mask = mask>=1\n",
    "    skull_strip = img*(brain_mask)\n",
    "    return skull_strip\n",
    "\n",
    "# Save array as a new nifti image\n",
    "def save_as_nifti(array, filename, reference_image):\n",
    "    \"\"\"Save array as nifti image\n",
    "\n",
    "    Args:\n",
    "        array (array): array to be saved\n",
    "        filename (str): path to save\n",
    "        reference_image (str): path of reference image\n",
    "    \"\"\"\n",
    "    reference_image = sitk.ReadImage(reference_image)\n",
    "    image = sitk.GetImageFromArray(array)\n",
    "    image.SetOrigin(reference_image.GetOrigin())\n",
    "    image.SetSpacing(reference_image.GetSpacing())\n",
    "    image.SetDirection(reference_image.GetDirection())\n",
    "    sitk.WriteImage(image, filename)\n",
    "\n",
    "def image_registration(fixed_path, moving_path):\n",
    "    \"\"\"Give two images and the registration of both, and its transformation map will be given\n",
    "\n",
    "    Args:\n",
    "        fixed_path (str): fixed (template) image\n",
    "        moving_path (str): moving image (image that will be transformed)\n",
    "\n",
    "    Returns:\n",
    "        sitk image, transformix map: transformed image and the transformation map\n",
    "    \"\"\"\n",
    "\n",
    "    fixedImage = sitk.ReadImage(fixed_path)\n",
    "    movingImage = sitk.ReadImage(moving_path)\n",
    "\n",
    "    #Start registration settings\n",
    "    elastixImageFilter = sitk.ElastixImageFilter() #Image filter object\n",
    "    #Defining settings\n",
    "    elastixImageFilter.SetFixedImage(fixedImage)\n",
    "    elastixImageFilter.SetMovingImage(movingImage)\n",
    "\n",
    "    #Run registration\n",
    "    elastixImageFilter.Execute()\n",
    "\n",
    "    #Get result image\n",
    "    resultImage = elastixImageFilter.GetResultImage()\n",
    "\n",
    "    #Transformation map\n",
    "    transformParameterMap = elastixImageFilter.GetTransformParameterMap()\n",
    "    #Set resampler interpolator as NearestNeighbor\n",
    "    transformParameterMap[0][\"ResampleInterpolator\"] = [\"FinalNearestNeighborInterpolator\"]\n",
    "    transformParameterMap[1][\"ResampleInterpolator\"] = [\"FinalNearestNeighborInterpolator\"]    \n",
    "    transformParameterMap[2][\"ResampleInterpolator\"] = [\"FinalNearestNeighborInterpolator\"]\n",
    "    return resultImage, transformParameterMap"
   ]
  },
  {
   "cell_type": "code",
   "execution_count": 19,
   "metadata": {},
   "outputs": [],
   "source": [
    "# fixed_path = str(cwd) + f'/data/testing-set/testing-images/1003.nii.gz'\n",
    "# labels_path = str(cwd) + f'/data/testing-set/testing-labels/1003_3C.nii.gz'\n",
    "# moving_path = str(cwd) + f'/data/training-set/training-images/1011.nii.gz'\n",
    "# atlas_path_csf = str(cwd) + f'/data/our_atlas/csf_atlas.nii'\n",
    "# atlas_path_gm = str(cwd) + f'/data/our_atlas/gm_atlas.nii'\n",
    "# atlas_path_wm = str(cwd) + f'/data/our_atlas/wm_atlas.nii'\n",
    "\n",
    "# resultImage, transformParameterMap = image_registration(fixed_path, moving_path) #Register images using predefined tranform map\n",
    "\n",
    "# transformixImageFilter = sitk.TransformixImageFilter() #Create object transform matrix\n",
    "# transformixImageFilter.SetTransformParameterMap(transformParameterMap) #Set with found transform map\n",
    "\n",
    "# # TRansform atlas images to the same space as the fixed image\n",
    "# atlas = sitk.ReadImage(atlas_path_csf) #Read labels\n",
    "# transformixImageFilter.SetMovingImage(atlas) #set moving image\n",
    "# transformixImageFilter.Execute() # Execute transform\n",
    "# atlas_registered = transformixImageFilter.GetResultImage() #Get result image"
   ]
  },
  {
   "cell_type": "code",
   "execution_count": 21,
   "metadata": {},
   "outputs": [
    {
     "data": {
      "text/plain": [
       "<matplotlib.image.AxesImage at 0x19dac9e9610>"
      ]
     },
     "execution_count": 21,
     "metadata": {},
     "output_type": "execute_result"
    },
    {
     "data": {
      "image/png": "[encoded data removed]",
      "text/plain": [
       "<Figure size 640x480 with 1 Axes>"
      ]
     },
     "metadata": {},
     "output_type": "display_data"
    }
   ],
   "source": [
    "# plt.imshow(sitk.GetArrayFromImage(atlas_registered)[100,:,:], cmap='gray')"
   ]
  },
  {
   "cell_type": "code",
   "execution_count": 26,
   "metadata": {},
   "outputs": [
    {
     "name": "stdout",
     "output_type": "stream",
     "text": [
      "1003\n",
      "1004\n",
      "1005\n",
      "1018\n",
      "1019\n",
      "1023\n",
      "1024\n",
      "1025\n",
      "1038\n",
      "1039\n",
      "1101\n",
      "1104\n",
      "1107\n",
      "1110\n",
      "1113\n",
      "1116\n",
      "1119\n",
      "1122\n",
      "1125\n",
      "1128\n"
     ]
    }
   ],
   "source": [
    "# TRansform atlas images to the same space as the fixed image per each image\n",
    "atlas_path_csf = str(cwd) + f'/data/our_atlas/csf_atlas.nii'\n",
    "atlas_path_gm = str(cwd) + f'/data/our_atlas/gm_atlas.nii'\n",
    "atlas_path_wm = str(cwd) + f'/data/our_atlas/wm_atlas.nii'\n",
    "\n",
    "def transform_atlas(atlas_path_csf, atlas_path_gm, atlas_path_wm, transformParameterMap):\n",
    "\n",
    "    atlas_csf = sitk.ReadImage(atlas_path_csf) #Read labels\n",
    "    atlas_gm = sitk.ReadImage(atlas_path_gm) #Read labels\n",
    "    atlas_wm = sitk.ReadImage(atlas_path_wm) #Read labels\n",
    "    \n",
    "    transformixImageFilter = sitk.TransformixImageFilter() #Create object transform matrix\n",
    "    transformixImageFilter.SetTransformParameterMap(transformParameterMap) #Set with found transform map\n",
    "    transformixImageFilter.SetMovingImage(atlas_csf) #set moving image\n",
    "    transformixImageFilter.Execute() # Execute transform\n",
    "    atlas_csf_registered = transformixImageFilter.GetResultImage() #Get result image\n",
    "\n",
    "    transformixImageFilter.SetMovingImage(atlas_gm) #set moving image\n",
    "    transformixImageFilter.Execute() # Execute transform\n",
    "    atlas_gm_registered = transformixImageFilter.GetResultImage() #Get result image\n",
    "\n",
    "    transformixImageFilter.SetMovingImage(atlas_wm) #set moving image\n",
    "    transformixImageFilter.Execute() # Execute transform\n",
    "    atlas_wm_registered = transformixImageFilter.GetResultImage() #Get result image\n",
    "\n",
    "    return atlas_csf_registered, atlas_gm_registered, atlas_wm_registered   \n",
    "    \n",
    "# Go through all the patients in the test-set\n",
    "for patient in list_patient:\n",
    "    print(patient)\n",
    "    # Read the images\n",
    "    fixed_path = str(cwd) + f'/data/testing-set/testing-images/{patient}.nii.gz'\n",
    "    labels_path = str(cwd) + f'/data/testing-set/testing-labels/{patient}_3C.nii.gz'\n",
    "    moving_path = str(cwd) + f'/data/training-set/training-images/1011.nii.gz'\n",
    "    # Register the images\n",
    "    resultImage, transformParameterMap = image_registration(fixed_path, moving_path)\n",
    "    # Transform the atlas images\n",
    "    atlas_csf_registered, atlas_gm_registered, atlas_wm_registered = transform_atlas(atlas_path_csf, atlas_path_gm, atlas_path_wm, transformParameterMap)\n",
    "    # Save the transformed atlas images\n",
    "    save_as_nifti(sitk.GetArrayFromImage(atlas_csf_registered), f'data/transformed_atlas/csf_atlas_{patient}.nii.gz', fixed_path)\n",
    "    save_as_nifti(sitk.GetArrayFromImage(atlas_gm_registered), f'data/transformed_atlas/gm_atlas_{patient}.nii.gz', fixed_path)\n",
    "    save_as_nifti(sitk.GetArrayFromImage(atlas_wm_registered), f'data/transformed_atlas/wm_atlas_{patient}.nii.gz', fixed_path)"
   ]
  }
 ],
 "metadata": {
  "kernelspec": {
   "display_name": "Python 3.9.13 64-bit (microsoft store)",
   "language": "python",
   "name": "python3"
  },
  "language_info": {
   "codemirror_mode": {
    "name": "ipython",
    "version": 3
   },
   "file_extension": ".py",
   "mimetype": "text/x-python",
   "name": "python",
   "nbconvert_exporter": "python",
   "pygments_lexer": "ipython3",
   "version": "3.9.13"
  },
  "orig_nbformat": 4,
  "vscode": {
   "interpreter": {
    "hash": "330291e952ef2592d61b7857e145d2070e6df96cbb58463d8ee825546f424b29"
   }
  }
 },
 "nbformat": 4,
 "nbformat_minor": 2
}
